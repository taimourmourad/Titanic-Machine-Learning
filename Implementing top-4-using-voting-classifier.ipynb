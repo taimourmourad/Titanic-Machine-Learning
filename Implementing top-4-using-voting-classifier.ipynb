{
 "cells": [
  {
   "cell_type": "code",
   "execution_count": 79,
   "metadata": {},
   "outputs": [],
   "source": [
    "import pandas as pd\n",
    "import numpy as np\n",
    "import matplotlib.pyplot as plt\n",
    "import seaborn as sns\n",
    "\n",
    "from sklearn.preprocessing import MinMaxScaler,RobustScaler,StandardScaler\n",
    "\n",
    "from sklearn.pipeline import Pipeline\n",
    "from sklearn.model_selection import train_test_split,cross_val_score,StratifiedKFold\n",
    "from sklearn.experimental import enable_iterative_imputer\n",
    "from sklearn.impute import KNNImputer,IterativeImputer\n",
    "from sklearn.feature_selection import SelectKBest,chi2,mutual_info_classif\n",
    "\n",
    "from sklearn.linear_model import LogisticRegression\n",
    "from sklearn.discriminant_analysis import LinearDiscriminantAnalysis\n",
    "from sklearn.svm import SVC\n",
    "from sklearn.tree import DecisionTreeClassifier\n",
    "from sklearn.decomposition import PCA\n",
    "from sklearn.neighbors import KNeighborsClassifier\n",
    "from sklearn.ensemble import RandomForestClassifier,GradientBoostingClassifier,VotingClassifier\n",
    "\n",
    "sns.set_style('whitegrid')\n",
    "from sklearn.metrics import accuracy_score"
   ]
  },
  {
   "cell_type": "code",
   "execution_count": 97,
   "metadata": {},
   "outputs": [],
   "source": [
    "train=pd.read_csv('train.csv')\n",
    "test=pd.read_csv('datasets/test.csv')"
   ]
  },
  {
   "cell_type": "code",
   "execution_count": 100,
   "metadata": {},
   "outputs": [
    {
     "data": {
      "text/html": [
       "<div>\n",
       "<style scoped>\n",
       "    .dataframe tbody tr th:only-of-type {\n",
       "        vertical-align: middle;\n",
       "    }\n",
       "\n",
       "    .dataframe tbody tr th {\n",
       "        vertical-align: top;\n",
       "    }\n",
       "\n",
       "    .dataframe thead th {\n",
       "        text-align: right;\n",
       "    }\n",
       "</style>\n",
       "<table border=\"1\" class=\"dataframe\">\n",
       "  <thead>\n",
       "    <tr style=\"text-align: right;\">\n",
       "      <th></th>\n",
       "      <th>PassengerId</th>\n",
       "    </tr>\n",
       "  </thead>\n",
       "  <tbody>\n",
       "    <tr>\n",
       "      <th>0</th>\n",
       "      <td>892</td>\n",
       "    </tr>\n",
       "    <tr>\n",
       "      <th>1</th>\n",
       "      <td>893</td>\n",
       "    </tr>\n",
       "    <tr>\n",
       "      <th>2</th>\n",
       "      <td>894</td>\n",
       "    </tr>\n",
       "    <tr>\n",
       "      <th>3</th>\n",
       "      <td>895</td>\n",
       "    </tr>\n",
       "    <tr>\n",
       "      <th>4</th>\n",
       "      <td>896</td>\n",
       "    </tr>\n",
       "  </tbody>\n",
       "</table>\n",
       "</div>"
      ],
      "text/plain": [
       "   PassengerId\n",
       "0          892\n",
       "1          893\n",
       "2          894\n",
       "3          895\n",
       "4          896"
      ]
     },
     "execution_count": 100,
     "metadata": {},
     "output_type": "execute_result"
    }
   ],
   "source": [
    "submit=pd.DataFrame(test['PassengerId'])\n",
    "submit.head()"
   ]
  },
  {
   "cell_type": "code",
   "execution_count": 101,
   "metadata": {},
   "outputs": [],
   "source": [
    "model=[]#7 models\n",
    "model.append(('Logistic Regression',LogisticRegression(max_iter=1000)))\n",
    "model.append(('LDA',LinearDiscriminantAnalysis()))\n",
    "model.append(('SVC',SVC(kernel='rbf')))\n",
    "model.append(('DTC',DecisionTreeClassifier()))\n",
    "model.append(('GBC',GradientBoostingClassifier()))\n",
    "model.append(('RFC',RandomForestClassifier()))\n",
    "model.append(('Kneig',KNeighborsClassifier()))\n",
    "\n",
    "\n",
    "x=train.drop('Survived',axis=1)   \n",
    "y=train['Survived']\n",
    "xtrain,xvalid,ytrain,yvalid=train_test_split(x,y,test_size=0.3)"
   ]
  },
  {
   "cell_type": "code",
   "execution_count": 102,
   "metadata": {},
   "outputs": [
    {
     "data": {
      "text/plain": [
       "[('Logistic Regression', 0.8272159800249688),\n",
       " ('LDA', 0.82832709113608),\n",
       " ('SVC', 0.8238077403245943),\n",
       " ('DTC', 0.7789513108614232),\n",
       " ('GBC', 0.8361423220973784),\n",
       " ('RFC', 0.8092883895131087),\n",
       " ('Kneig', 0.8159300873907617)]"
      ]
     },
     "execution_count": 102,
     "metadata": {},
     "output_type": "execute_result"
    }
   ],
   "source": [
    "scores=[]\n",
    "\n",
    "for name,models in model:\n",
    "    pipeline = Pipeline( steps=[( 'scale', MinMaxScaler()), ('model', models)])\n",
    "    cv=StratifiedKFold(n_splits=10, random_state=21, shuffle=True)\n",
    "    score=cross_val_score( pipeline, x, y, cv=cv, scoring='accuracy', n_jobs=-1)\n",
    "    scores.append((name, np.mean(score)))\n",
    "   \n",
    "    \n",
    "scores"
   ]
  },
  {
   "cell_type": "markdown",
   "metadata": {},
   "source": [
    "**Classification report**"
   ]
  },
  {
   "cell_type": "code",
   "execution_count": 103,
   "metadata": {},
   "outputs": [
    {
     "name": "stdout",
     "output_type": "stream",
     "text": [
      "              precision    recall  f1-score   support\n",
      "\n",
      "         0.0       0.85      0.88      0.86       168\n",
      "         1.0       0.78      0.74      0.76       100\n",
      "\n",
      "    accuracy                           0.82       268\n",
      "   macro avg       0.81      0.81      0.81       268\n",
      "weighted avg       0.82      0.82      0.82       268\n",
      "\n"
     ]
    }
   ],
   "source": [
    "from sklearn.metrics import classification_report\n",
    "\n",
    "model=LogisticRegression(max_iter = 3000)\n",
    "model.fit(xtrain, ytrain)\n",
    "ypred=model.predict(xvalid)\n",
    "print(classification_report(yvalid, ypred))"
   ]
  },
  {
   "cell_type": "code",
   "execution_count": 104,
   "metadata": {},
   "outputs": [
    {
     "name": "stdout",
     "output_type": "stream",
     "text": [
      "              precision    recall  f1-score   support\n",
      "\n",
      "         0.0       0.84      0.85      0.85       168\n",
      "         1.0       0.74      0.73      0.74       100\n",
      "\n",
      "    accuracy                           0.81       268\n",
      "   macro avg       0.79      0.79      0.79       268\n",
      "weighted avg       0.81      0.81      0.81       268\n",
      "\n"
     ]
    }
   ],
   "source": [
    "model=RandomForestClassifier()\n",
    "model.fit(xtrain, ytrain)\n",
    "ypred=model.predict(xvalid)\n",
    "print(classification_report(yvalid, ypred))"
   ]
  },
  {
   "cell_type": "markdown",
   "metadata": {},
   "source": [
    "# 7.Model classification using voting Classifier"
   ]
  },
  {
   "cell_type": "code",
   "execution_count": 105,
   "metadata": {},
   "outputs": [
    {
     "name": "stdout",
     "output_type": "stream",
     "text": [
      "              precision    recall  f1-score   support\n",
      "\n",
      "         0.0       0.87      0.88      0.87       168\n",
      "         1.0       0.79      0.77      0.78       100\n",
      "\n",
      "    accuracy                           0.84       268\n",
      "   macro avg       0.83      0.83      0.83       268\n",
      "weighted avg       0.84      0.84      0.84       268\n",
      "\n"
     ]
    }
   ],
   "source": [
    "estimator = []\n",
    "estimator.append(('LR', GradientBoostingClassifier()))\n",
    "estimator.append(('SVC', RandomForestClassifier()))\n",
    "estimator.append(('kd', LogisticRegression(max_iter=3000)))\n",
    "\n",
    "\n",
    "  \n",
    "# Voting Classifier with hard voting\n",
    "vot_hard = VotingClassifier(estimators = estimator, voting ='hard')\n",
    "vot_hard.fit(xtrain, ytrain)\n",
    "ypred=vot_hard.predict(xvalid)\n",
    "print(classification_report(yvalid,ypred))"
   ]
  },
  {
   "cell_type": "code",
   "execution_count": 106,
   "metadata": {},
   "outputs": [
    {
     "name": "stdout",
     "output_type": "stream",
     "text": [
      "              precision    recall  f1-score   support\n",
      "\n",
      "         0.0       0.91      0.99      0.95       168\n",
      "         1.0       0.98      0.84      0.90       100\n",
      "\n",
      "    accuracy                           0.93       268\n",
      "   macro avg       0.94      0.91      0.93       268\n",
      "weighted avg       0.94      0.93      0.93       268\n",
      "\n"
     ]
    }
   ],
   "source": [
    "pipeline=Pipeline(steps=[('scale',MinMaxScaler()),('jj',SelectKBest(score_func=mutual_info_classif,k=6)),('model',VotingClassifier(estimators = estimator, voting ='soft'))])\n",
    "cv=StratifiedKFold(n_splits=10,random_state=21,shuffle=True)\n",
    "pipeline.fit(x,y)\n",
    "ypred=pipeline.predict(xvalid)\n",
    "print(classification_report(yvalid,ypred))"
   ]
  },
  {
   "cell_type": "markdown",
   "metadata": {},
   "source": [
    "# 8. Hyperparameter tuning \n"
   ]
  },
  {
   "cell_type": "markdown",
   "metadata": {},
   "source": [
    "**5.1. KNeighborsClassifier**"
   ]
  },
  {
   "cell_type": "code",
   "execution_count": 107,
   "metadata": {},
   "outputs": [
    {
     "name": "stdout",
     "output_type": "stream",
     "text": [
      "{'bootstrap': True, 'max_depth': None, 'max_features': 13, 'min_samples_split': 9, 'n_estimators': 288}\n"
     ]
    }
   ],
   "source": [
    "from sklearn.model_selection import RandomizedSearchCV\n",
    "from scipy.stats import randint as sp_randint\n",
    "\n",
    "\n",
    "param_dist = {\"max_depth\": [3, None],\n",
    "              \"max_features\": sp_randint(1, x.shape[1]),\n",
    "              \"min_samples_split\": sp_randint(2, 11),\n",
    "              \"bootstrap\": [True, False],\n",
    "              \"n_estimators\": sp_randint(100, 500)}\n",
    "\n",
    "random_search = RandomizedSearchCV(RandomForestClassifier(), param_distributions=param_dist, n_iter=10, cv=5, random_state=42)\n",
    "random_search.fit(x,y)\n",
    "print(random_search.best_params_)"
   ]
  },
  {
   "cell_type": "code",
   "execution_count": 108,
   "metadata": {},
   "outputs": [
    {
     "name": "stdout",
     "output_type": "stream",
     "text": [
      "{'learning_rate': [0.1, 0.05, 0.02, 0.01], 'max_depth': [4, 6, 8], 'min_samples_leaf': [20, 50, 100, 150], 'max_features': [1.0, 0.3, 0.1]}\n",
      "{'min_samples_leaf': 20, 'max_features': 1.0, 'max_depth': 8, 'learning_rate': 0.01}\n"
     ]
    }
   ],
   "source": [
    "gb_grid_params = {'learning_rate': [0.1, 0.05, 0.02, 0.01],\n",
    "              'max_depth': [4, 6, 8],\n",
    "              'min_samples_leaf': [20, 50,100,150],\n",
    "              'max_features': [1.0, 0.3, 0.1] \n",
    "              }\n",
    "print(gb_grid_params)\n",
    "\n",
    "gb_gs = GradientBoostingClassifier(n_estimators = 600)\n",
    "\n",
    "clf =RandomizedSearchCV(gb_gs,\n",
    "                               gb_grid_params,\n",
    "                               cv=2,\n",
    "                               scoring='accuracy', \n",
    "                               n_jobs=10);\n",
    "clf.fit(x,y)\n",
    "print(clf.best_params_)"
   ]
  },
  {
   "cell_type": "code",
   "execution_count": 109,
   "metadata": {},
   "outputs": [
    {
     "name": "stdout",
     "output_type": "stream",
     "text": [
      "              precision    recall  f1-score   support\n",
      "\n",
      "         0.0       0.85      0.95      0.90       168\n",
      "         1.0       0.90      0.71      0.79       100\n",
      "\n",
      "    accuracy                           0.86       268\n",
      "   macro avg       0.87      0.83      0.84       268\n",
      "weighted avg       0.87      0.86      0.86       268\n",
      "\n"
     ]
    }
   ],
   "source": [
    "estimator = []\n",
    "estimator.append(('LR', clf))\n",
    "estimator.append(('SVC', random_search))\n",
    "\n",
    "\n",
    "  \n",
    "# Voting Classifier with hard voting\n",
    "vot_hard = VotingClassifier(estimators = estimator, voting ='hard')\n",
    "vot_hard.fit(xtrain, ytrain)\n",
    "ypred=vot_hard.predict(xvalid)\n",
    "print(classification_report(yvalid,ypred))"
   ]
  },
  {
   "cell_type": "markdown",
   "metadata": {},
   "source": [
    "# 9.Testing"
   ]
  },
  {
   "cell_type": "code",
   "execution_count": 110,
   "metadata": {},
   "outputs": [],
   "source": [
    "\n",
    "test['Sex'].replace({'male':0,'female':1},inplace=True)\n",
    "test['Embarked'].replace({'S':1,'C':2,'Q':3},inplace=True)\n",
    "test['title']=0\n",
    "test['Fare']=np.sqrt(test['Fare'])\n",
    "for i in range(0,len(test)):\n",
    "    test.loc[i,'title']=test['Name'].iloc[i].split(',')[1].split('.')[0][1:]\n",
    "test['title'].replace({'Mr':1,'Miss':2,'Mrs':2,'Master':3,'Dr':4,'Rev':5},inplace=True)\n",
    "test['title'].replace(['Major','Mlle','Col','Don','the Countess','Sir','Capt','Mme','Lady','Jonkheer','Ms','Dona'],7,inplace=True)\n",
    "test['family']=test['SibSp']+test['Parch']+1\n",
    "test['family']=test['family'].map(family)\n",
    "\n",
    "for i in range(len(test)):\n",
    "    if not(pd.isnull(test['Cabin'].iloc[i])):\n",
    "        test.loc[i,'Cabin']=test['Cabin'].loc[i][0]\n",
    "test.drop(['Name','SibSp','Parch','Ticket','PassengerId','Cabin'],axis=1,inplace=True)\n",
    "\n",
    "test=pd.get_dummies(test,columns=['Pclass','Embarked','title','family'],drop_first=True)\n",
    "\n",
    "test=pd.DataFrame(impute.fit_transform(test),columns=test.columns)"
   ]
  },
  {
   "cell_type": "code",
   "execution_count": 112,
   "metadata": {},
   "outputs": [
    {
     "data": {
      "text/html": [
       "<div>\n",
       "<style scoped>\n",
       "    .dataframe tbody tr th:only-of-type {\n",
       "        vertical-align: middle;\n",
       "    }\n",
       "\n",
       "    .dataframe tbody tr th {\n",
       "        vertical-align: top;\n",
       "    }\n",
       "\n",
       "    .dataframe thead th {\n",
       "        text-align: right;\n",
       "    }\n",
       "</style>\n",
       "<table border=\"1\" class=\"dataframe\">\n",
       "  <thead>\n",
       "    <tr style=\"text-align: right;\">\n",
       "      <th></th>\n",
       "      <th>PassengerId</th>\n",
       "      <th>Survived</th>\n",
       "    </tr>\n",
       "  </thead>\n",
       "  <tbody>\n",
       "    <tr>\n",
       "      <th>0</th>\n",
       "      <td>892</td>\n",
       "      <td>0</td>\n",
       "    </tr>\n",
       "    <tr>\n",
       "      <th>1</th>\n",
       "      <td>893</td>\n",
       "      <td>0</td>\n",
       "    </tr>\n",
       "    <tr>\n",
       "      <th>2</th>\n",
       "      <td>894</td>\n",
       "      <td>0</td>\n",
       "    </tr>\n",
       "    <tr>\n",
       "      <th>3</th>\n",
       "      <td>895</td>\n",
       "      <td>0</td>\n",
       "    </tr>\n",
       "    <tr>\n",
       "      <th>4</th>\n",
       "      <td>896</td>\n",
       "      <td>0</td>\n",
       "    </tr>\n",
       "    <tr>\n",
       "      <th>...</th>\n",
       "      <td>...</td>\n",
       "      <td>...</td>\n",
       "    </tr>\n",
       "    <tr>\n",
       "      <th>413</th>\n",
       "      <td>1305</td>\n",
       "      <td>0</td>\n",
       "    </tr>\n",
       "    <tr>\n",
       "      <th>414</th>\n",
       "      <td>1306</td>\n",
       "      <td>1</td>\n",
       "    </tr>\n",
       "    <tr>\n",
       "      <th>415</th>\n",
       "      <td>1307</td>\n",
       "      <td>0</td>\n",
       "    </tr>\n",
       "    <tr>\n",
       "      <th>416</th>\n",
       "      <td>1308</td>\n",
       "      <td>0</td>\n",
       "    </tr>\n",
       "    <tr>\n",
       "      <th>417</th>\n",
       "      <td>1309</td>\n",
       "      <td>0</td>\n",
       "    </tr>\n",
       "  </tbody>\n",
       "</table>\n",
       "<p>418 rows × 2 columns</p>\n",
       "</div>"
      ],
      "text/plain": [
       "     PassengerId  Survived\n",
       "0            892         0\n",
       "1            893         0\n",
       "2            894         0\n",
       "3            895         0\n",
       "4            896         0\n",
       "..           ...       ...\n",
       "413         1305         0\n",
       "414         1306         1\n",
       "415         1307         0\n",
       "416         1308         0\n",
       "417         1309         0\n",
       "\n",
       "[418 rows x 2 columns]"
      ]
     },
     "execution_count": 112,
     "metadata": {},
     "output_type": "execute_result"
    }
   ],
   "source": [
    "submit['Survived']=pipeline.predict(test).astype(int)\n",
    "submit.to_csv('ver.csv',index=False)\n",
    "submit"
   ]
  },
  {
   "cell_type": "code",
   "execution_count": null,
   "metadata": {},
   "outputs": [],
   "source": []
  }
 ],
 "metadata": {
  "kernelspec": {
   "display_name": "Python 3",
   "language": "python",
   "name": "python3"
  },
  "language_info": {
   "codemirror_mode": {
    "name": "ipython",
    "version": 3
   },
   "file_extension": ".py",
   "mimetype": "text/x-python",
   "name": "python",
   "nbconvert_exporter": "python",
   "pygments_lexer": "ipython3",
   "version": "3.7.3"
  }
 },
 "nbformat": 4,
 "nbformat_minor": 2
}
